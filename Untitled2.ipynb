{
  "nbformat": 4,
  "nbformat_minor": 0,
  "metadata": {
    "colab": {
      "provenance": [],
      "authorship_tag": "ABX9TyP+TzGiM6DqHKJb4kuGM05d",
      "include_colab_link": true
    },
    "kernelspec": {
      "name": "python3",
      "display_name": "Python 3"
    },
    "language_info": {
      "name": "python"
    }
  },
  "cells": [
    {
      "cell_type": "markdown",
      "metadata": {
        "id": "view-in-github",
        "colab_type": "text"
      },
      "source": [
        "<a href=\"https://colab.research.google.com/github/YUskudar/Yapay-Sinir-Aglari-4.Soru/blob/main/Untitled2.ipynb\" target=\"_parent\"><img src=\"https://colab.research.google.com/assets/colab-badge.svg\" alt=\"Open In Colab\"/></a>"
      ]
    },
    {
      "cell_type": "code",
      "source": [
        "import torch\n",
        "\n",
        "X = torch.tensor([[1, 2, 3], [4, 5, 6]], dtype=torch.float)\n",
        "\n",
        "torch.manual_seed(190401089)\n",
        "class TanhActivation(torch.nn.Module):\n",
        "    def forward(self, x):\n",
        "        return torch.tanh(x)\n",
        "\n",
        "class SigmoidActivation(torch.nn.Module):\n",
        "    def forward(self, x):\n",
        "        return torch.sigmoid(x)\n",
        "\n",
        "class MyNet(torch.nn.Module):\n",
        "    def __init__(self):\n",
        "        super().__init__()\n",
        "        self.fc1 = torch.nn.Linear(3, 50)\n",
        "        self.act1 = TanhActivation()\n",
        "        self.fc2 = torch.nn.Linear(50, 1)\n",
        "        self.act2 = SigmoidActivation()\n",
        "\n",
        "    def forward(self, x):\n",
        "        x = self.fc1(x)\n",
        "        x = self.act1(x)\n",
        "        x = self.fc2(x)\n",
        "        x = self.act2(x)\n",
        "        return x\n",
        "\n",
        "model = MyNet()\n",
        "y = model(X)\n",
        "print(y)"
      ],
      "metadata": {
        "colab": {
          "base_uri": "https://localhost:8080/"
        },
        "id": "zceED3tZLlvo",
        "outputId": "257287b4-43b8-46f9-c838-f67da3515fae"
      },
      "execution_count": null,
      "outputs": [
        {
          "output_type": "stream",
          "name": "stdout",
          "text": [
            "tensor([[0.5033],\n",
            "        [0.5355]], grad_fn=<SigmoidBackward0>)\n"
          ]
        }
      ]
    }
  ]
}